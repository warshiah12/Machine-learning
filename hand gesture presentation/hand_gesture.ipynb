{
 "cells": [
  {
   "cell_type": "code",
   "execution_count": 22,
   "metadata": {},
   "outputs": [
    {
     "name": "stdout",
     "output_type": "stream",
     "text": [
      "Defaulting to user installation because normal site-packages is not writeableNote: you may need to restart the kernel to use updated packages.\n",
      "\n",
      "Requirement already satisfied: cvzone in c:\\users\\usa\\appdata\\roaming\\python\\python311\\site-packages (1.6.1)\n",
      "Requirement already satisfied: opencv-python in c:\\users\\usa\\appdata\\roaming\\python\\python311\\site-packages (from cvzone) (4.8.1.78)\n",
      "Requirement already satisfied: numpy in c:\\program files\\python311\\lib\\site-packages (from cvzone) (1.24.1)\n",
      "Defaulting to user installation because normal site-packages is not writeableNote: you may need to restart the kernel to use updated packages.\n",
      "\n",
      "Requirement already satisfied: mediapipe in c:\\users\\usa\\appdata\\roaming\\python\\python311\\site-packages (0.10.9)\n",
      "Requirement already satisfied: absl-py in c:\\users\\usa\\appdata\\roaming\\python\\python311\\site-packages (from mediapipe) (2.0.0)\n",
      "Requirement already satisfied: attrs>=19.1.0 in c:\\users\\usa\\appdata\\roaming\\python\\python311\\site-packages (from mediapipe) (23.1.0)\n",
      "Requirement already satisfied: flatbuffers>=2.0 in c:\\users\\usa\\appdata\\roaming\\python\\python311\\site-packages (from mediapipe) (23.5.26)\n",
      "Requirement already satisfied: matplotlib in c:\\users\\usa\\appdata\\roaming\\python\\python311\\site-packages (from mediapipe) (3.8.2)\n",
      "Requirement already satisfied: numpy in c:\\program files\\python311\\lib\\site-packages (from mediapipe) (1.24.1)\n",
      "Requirement already satisfied: opencv-contrib-python in c:\\users\\usa\\appdata\\roaming\\python\\python311\\site-packages (from mediapipe) (4.8.1.78)\n",
      "Requirement already satisfied: protobuf<4,>=3.11 in c:\\users\\usa\\appdata\\roaming\\python\\python311\\site-packages (from mediapipe) (3.20.3)\n",
      "Requirement already satisfied: sounddevice>=0.4.4 in c:\\users\\usa\\appdata\\roaming\\python\\python311\\site-packages (from mediapipe) (0.4.6)\n",
      "Requirement already satisfied: CFFI>=1.0 in c:\\program files\\python311\\lib\\site-packages (from sounddevice>=0.4.4->mediapipe) (1.15.1)\n",
      "Requirement already satisfied: contourpy>=1.0.1 in c:\\users\\usa\\appdata\\roaming\\python\\python311\\site-packages (from matplotlib->mediapipe) (1.2.0)\n",
      "Requirement already satisfied: cycler>=0.10 in c:\\users\\usa\\appdata\\roaming\\python\\python311\\site-packages (from matplotlib->mediapipe) (0.12.1)\n",
      "Requirement already satisfied: fonttools>=4.22.0 in c:\\users\\usa\\appdata\\roaming\\python\\python311\\site-packages (from matplotlib->mediapipe) (4.47.0)\n",
      "Requirement already satisfied: kiwisolver>=1.3.1 in c:\\users\\usa\\appdata\\roaming\\python\\python311\\site-packages (from matplotlib->mediapipe) (1.4.5)\n",
      "Requirement already satisfied: packaging>=20.0 in c:\\users\\usa\\appdata\\roaming\\python\\python311\\site-packages (from matplotlib->mediapipe) (23.2)\n",
      "Requirement already satisfied: pillow>=8 in c:\\users\\usa\\appdata\\roaming\\python\\python311\\site-packages (from matplotlib->mediapipe) (9.3.0)\n",
      "Requirement already satisfied: pyparsing>=2.3.1 in c:\\users\\usa\\appdata\\roaming\\python\\python311\\site-packages (from matplotlib->mediapipe) (3.1.1)\n",
      "Requirement already satisfied: python-dateutil>=2.7 in c:\\users\\usa\\appdata\\roaming\\python\\python311\\site-packages (from matplotlib->mediapipe) (2.8.2)\n",
      "Requirement already satisfied: pycparser in c:\\program files\\python311\\lib\\site-packages (from CFFI>=1.0->sounddevice>=0.4.4->mediapipe) (2.21)\n",
      "Requirement already satisfied: six>=1.5 in c:\\users\\usa\\appdata\\roaming\\python\\python311\\site-packages (from python-dateutil>=2.7->matplotlib->mediapipe) (1.16.0)\n",
      "Defaulting to user installation because normal site-packages is not writeableNote: you may need to restart the kernel to use updated packages.\n",
      "\n",
      "Requirement already satisfied: pip in c:\\users\\usa\\appdata\\roaming\\python\\python311\\site-packages (23.3.2)\n"
     ]
    }
   ],
   "source": [
    "%pip install cvzone\n",
    "%pip install --upgrade mediapipe\n",
    "%pip install --upgrade pip\n"
   ]
  },
  {
   "cell_type": "markdown",
   "metadata": {},
   "source": [
    "## Importing libraries"
   ]
  },
  {
   "cell_type": "code",
   "execution_count": 23,
   "metadata": {},
   "outputs": [
    {
     "name": "stdout",
     "output_type": "stream",
     "text": [
      "Help on package cv2:\n",
      "\n",
      "NAME\n",
      "    cv2 - OpenCV Python binary extension loader\n",
      "\n",
      "PACKAGE CONTENTS\n",
      "    config\n",
      "    config-3\n",
      "    cv2\n",
      "    data (package)\n",
      "    gapi (package)\n",
      "    load_config_py2\n",
      "    load_config_py3\n",
      "    mat_wrapper (package)\n",
      "    misc (package)\n",
      "    typing (package)\n",
      "    utils (package)\n",
      "    version\n",
      "\n",
      "SUBMODULES\n",
      "    Error\n",
      "    aruco\n",
      "    barcode\n",
      "    bgsegm\n",
      "    bioinspired\n",
      "    ccm\n",
      "    colored_kinfu\n",
      "    cuda\n",
      "    datasets\n",
      "    detail\n",
      "    dnn\n",
      "    dnn_superres\n",
      "    dpm\n",
      "    dynafu\n",
      "    face\n",
      "    fisheye\n",
      "    flann\n",
      "    ft\n",
      "    hfs\n",
      "    img_hash\n",
      "    intensity_transform\n",
      "    ipp\n",
      "    kinfu\n",
      "    large_kinfu\n",
      "    legacy\n",
      "    line_descriptor\n",
      "    linemod\n",
      "    mcc\n",
      "    ml\n",
      "    motempl\n",
      "    multicalib\n",
      "    ocl\n",
      "    ogl\n",
      "    omnidir\n",
      "    optflow\n",
      "    parallel\n",
      "    phase_unwrapping\n",
      "    plot\n",
      "    ppf_match_3d\n",
      "    quality\n",
      "    rapid\n",
      "    reg\n",
      "    rgbd\n",
      "    saliency\n",
      "    samples\n",
      "    segmentation\n",
      "    stereo\n",
      "    structured_light\n",
      "    text\n",
      "    videoio_registry\n",
      "    videostab\n",
      "    wechat_qrcode\n",
      "    xfeatures2d\n",
      "    ximgproc\n",
      "    xphoto\n",
      "\n",
      "DATA\n",
      "    __all__ = []\n",
      "\n",
      "VERSION\n",
      "    4.8.1\n",
      "\n",
      "FILE\n",
      "    c:\\users\\usa\\appdata\\roaming\\python\\python311\\site-packages\\cv2\\__init__.py\n",
      "\n",
      "\n"
     ]
    }
   ],
   "source": [
    "import cv2\n",
    "import mediapipe\n",
    "import os\n",
    "import matplotlib.pyplot as plt\n",
    "import numpy as np\n",
    "from cvzone.HandTrackingModule import HandDetector\n",
    "\n",
    "help(cv2)"
   ]
  },
  {
   "cell_type": "markdown",
   "metadata": {},
   "source": [
    "## Defining variables"
   ]
  },
  {
   "cell_type": "code",
   "execution_count": 24,
   "metadata": {},
   "outputs": [],
   "source": [
    "w, h = 980, 768\n",
    "SlidesFolder = '../hand gesture presentation/images'\n",
    "SlideNum = 0\n",
    "#adjusting the size of the webcam on the presentation slides\n",
    "cam_top = 2\n",
    "cam_left = w - 2\n",
    "cam_height = 150\n",
    "cam_width = 250\n",
    "gesture_activation = 340\n",
    "keyEntered = False\n",
    "keyCount = 0\n",
    "#the key must be held down for 1 second which is equal to 20fps in this case\n",
    "keyDelay = 20 \n",
    "drawing = []\n",
    "#assigning the value as -1 so that it turns to 0 when it's incremented\n",
    "drawingCount = -1\n",
    "drawingPoint = False\n"
   ]
  },
  {
   "cell_type": "markdown",
   "metadata": {},
   "source": [
    "## Webcam setup"
   ]
  },
  {
   "cell_type": "code",
   "execution_count": 25,
   "metadata": {},
   "outputs": [
    {
     "data": {
      "text/plain": [
       "True"
      ]
     },
     "execution_count": 25,
     "metadata": {},
     "output_type": "execute_result"
    }
   ],
   "source": [
    "#adjusting the webcam to capture the video\n",
    "cam = cv2.VideoCapture(0)\n",
    "cam.set(3, w)\n",
    "cam.set(4, h) "
   ]
  },
  {
   "cell_type": "markdown",
   "metadata": {},
   "source": [
    "## Retrieving the presentation images"
   ]
  },
  {
   "cell_type": "code",
   "execution_count": 26,
   "metadata": {},
   "outputs": [],
   "source": [
    "#getting the list of images from the folder above\n",
    "presSlides = os.listdir(SlidesFolder)"
   ]
  },
  {
   "cell_type": "markdown",
   "metadata": {},
   "source": [
    "## Addition of Hand Detector"
   ]
  },
  {
   "cell_type": "code",
   "execution_count": 27,
   "metadata": {},
   "outputs": [],
   "source": [
    "#adding a hand-detector to track the hands\n",
    "tracker = HandDetector(detectionCon = 0.9, maxHands = 2)"
   ]
  },
  {
   "cell_type": "code",
   "execution_count": 28,
   "metadata": {},
   "outputs": [],
   "source": [
    "while True:\n",
    "    #read a frame from the variable cam\n",
    "    success, img = cam.read()\n",
    "\n",
    "    #flipping the webcam horizontally\n",
    "    img = cv2.flip(img, 1)\n",
    "\n",
    "    #importing the presentation images\n",
    "    PptSlides = os.path.join(SlidesFolder, presSlides[SlideNum])\n",
    "    currentSlide = cv2.imread(PptSlides)\n",
    "\n",
    "    #detecting the hands in the webcam image\n",
    "    palms, img = tracker.findHands(img)\n",
    "\n",
    "    #creating the gesture activation line\n",
    "    cv2.line(img, (0, gesture_activation),(w, gesture_activation), (238, 197, 160), 6)\n",
    "\n",
    "    #checking to see if fingers are detected \n",
    "    if palms and keyEntered is False:\n",
    "\n",
    "        #processing data about the initially detected palm including the number of fingers held up, the center \n",
    "        #coordinates of the palm and its index fingers' tip\n",
    "\n",
    "        OnePalm = palms[0]\n",
    "        Palmfingers = tracker.fingersUp(OnePalm)\n",
    "        centerHorizontal, centerVertical = OnePalm['center']\n",
    "        landmarkList = OnePalm['lmList']\n",
    "        scaling_fact = 2.0\n",
    "\n",
    "    #restraining and scaling the coordinate values in order to easily and smoothly move the cursor all over the slides \n",
    "        x_coord = int(np.interp(landmarkList[8][0], [w // 4, w], [0, w]) * scaling_fact) \n",
    "        y_coord = int(np.interp(landmarkList[8][1], [140, h - 140], [0, h]) * scaling_fact) \n",
    "        IndxFinger = x_coord, y_coord\n",
    "\n",
    "       #making sure that the model only accepts gestures when they are above the gesture activation line\n",
    "        if centerVertical <= gesture_activation:\n",
    "\n",
    "           # First gesture to move to the previous slide  \n",
    "           if Palmfingers == [1, 0, 0, 0, 0]:\n",
    "              #if the slide number is greater than 0, then it will move to the previous slide\n",
    "              if SlideNum > 0:\n",
    "                 keyEntered = True \n",
    "                 SlideNum -= 1\n",
    "                 drawing = []\n",
    "                 drawingCount = -1\n",
    "                 drawingPoint = False\n",
    "\n",
    "           # Second gesture to move to the next slide\n",
    "           if Palmfingers == [0, 1, 0, 0, 0]:\n",
    "              #print(\"right\") #COMMENT OR DELETE THIS LATER\n",
    "              #checking to see if there is another slide after this one, if yes, proceed to the next one, or else, stay in the same slide\n",
    "              if SlideNum < len(presSlides) - 1:\n",
    "                 keyEntered = True\n",
    "                 SlideNum += 1\n",
    "                 drawing = []\n",
    "                 drawingCount = -1\n",
    "                 drawingPoint = False\n",
    "            \n",
    "        #Third gesture for cursor\n",
    "        if Palmfingers == [0, 1, 1, 0, 0]:\n",
    "            cv2.circle(currentSlide, IndxFinger, 10, (17, 131, 207), cv2.FILLED)\n",
    "\n",
    "        #Fourth gesture for drawing\n",
    "        if Palmfingers == [0, 0, 0, 0, 1]:\n",
    "            if drawingPoint is False:\n",
    "                drawingPoint = True\n",
    "                drawingCount += 1\n",
    "                drawing.append([])\n",
    "            cv2.circle(currentSlide, IndxFinger, 10, (17, 131, 207), cv2.FILLED)\n",
    "            drawing[drawingCount].append(IndxFinger)\n",
    "        else:\n",
    "            drawingPoint = False\n",
    "\n",
    "# Debouncing mechanism: keyCount and keyEntered will be reset if keyCount becomes greater than keyDelay \n",
    "    if keyEntered:\n",
    "        keyCount += 1\n",
    "        if keyCount > keyDelay:\n",
    "            keyCount = 0 \n",
    "            keyEntered = False\n",
    "    \n",
    "    #using for loop to iterate through the points and join them together to draw\n",
    "    for x in range(len(drawing)):\n",
    "        for y in range(len(drawing[x])):\n",
    "            if y!= 0:\n",
    "                cv2.line(currentSlide, drawing[x][y - 1], drawing[x][y], (17, 131, 207), 10)\n",
    "\n",
    "    #resizing and putting the webcam frame on top of the presentation slides\n",
    "    CamSmall = cv2.resize(img, (cam_width, cam_height))\n",
    "    width, height, _ = currentSlide.shape\n",
    "    cam_top = 600\n",
    "    cam_left = currentSlide.shape[1] - cam_width\n",
    "    currentSlide[cam_top: cam_top + cam_height, cam_left: cam_left + cam_width] = CamSmall\n",
    "\n",
    "\n",
    "    #Displaying the presentation slide and webcam image on the top right corner of the slides\n",
    "    cv2.imshow(\"Machine Learning Slides\", currentSlide)\n",
    "\n",
    "    #checking if the key is pressed\n",
    "    button = cv2.waitKey(1)\n",
    "\n",
    "\n",
    "    #using if condition to exit the loop if 'q' is pressed\n",
    "    if button == ord('e'):\n",
    "        break\n",
    "#the camera window will be closed/released\n",
    "cam.release()\n",
    "cv2.destroyAllWindows()"
   ]
  }
 ],
 "metadata": {
  "kernelspec": {
   "display_name": "Python 3",
   "language": "python",
   "name": "python3"
  },
  "language_info": {
   "codemirror_mode": {
    "name": "ipython",
    "version": 3
   },
   "file_extension": ".py",
   "mimetype": "text/x-python",
   "name": "python",
   "nbconvert_exporter": "python",
   "pygments_lexer": "ipython3",
   "version": "3.11.1"
  }
 },
 "nbformat": 4,
 "nbformat_minor": 2
}
